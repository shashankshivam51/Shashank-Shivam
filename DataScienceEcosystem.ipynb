{
 "cells": [
  {
   "cell_type": "markdown",
   "id": "bea242b5",
   "metadata": {},
   "source": [
    "# Data Science Tools and Ecosystem"
   ]
  },
  {
   "cell_type": "markdown",
   "id": "a88611ec",
   "metadata": {},
   "source": [
    "### In this notebook, data science and ecosytem are summarised"
   ]
  },
  {
   "cell_type": "markdown",
   "id": "cb795e30",
   "metadata": {},
   "source": [
    "Some of the popular languages that Data Scientists use are :\n",
    "1. Python\n",
    "2. R\n",
    "3. SQL\n",
    "4. C++"
   ]
  },
  {
   "cell_type": "markdown",
   "id": "06550f0b",
   "metadata": {},
   "source": [
    "Some of the commonly used libraries used by Data Scientietsts are :\n",
    "1. TensorFlow\n",
    "2. Numpy\n",
    "3. SciPy\n",
    "4. Pandas\n",
    "5. Matplot\n",
    "6. Keras\n",
    "7. SciKit-Learn\n",
    "8. PyTorch etc..."
   ]
  },
  {
   "cell_type": "markdown",
   "id": "0cfd8ba5",
   "metadata": {},
   "source": [
    "|Data Science Tools|\n",
    "|---|\n",
    "|SAS|\n",
    "|Apache Hadoop|\n",
    "|TensorFlow|"
   ]
  },
  {
   "cell_type": "markdown",
   "id": "20c34e13",
   "metadata": {},
   "source": [
    "### Below are a few example of arithmatic operation"
   ]
  },
  {
   "cell_type": "code",
   "execution_count": 1,
   "id": "7d5f87b7",
   "metadata": {},
   "outputs": [
    {
     "data": {
      "text/plain": [
       "17"
      ]
     },
     "execution_count": 1,
     "metadata": {},
     "output_type": "execute_result"
    }
   ],
   "source": [
    "#Create a code cell to multiply and add numbers.\n",
    "(3*4)+5"
   ]
  },
  {
   "cell_type": "code",
   "execution_count": 2,
   "id": "24a8b7ab",
   "metadata": {},
   "outputs": [
    {
     "data": {
      "text/plain": [
       "3.3333333333333335"
      ]
     },
     "execution_count": 2,
     "metadata": {},
     "output_type": "execute_result"
    }
   ],
   "source": [
    "#Create a code cell to convert minutes to hours.\n",
    "200/60"
   ]
  },
  {
   "cell_type": "markdown",
   "id": "3ec094c5",
   "metadata": {},
   "source": [
    "__Objective__\n",
    "* List data science languages\n",
    "* List popular libraries for Data Science\n",
    "* List of ewll know Data science tools\n",
    "* How to provide comments in the cell"
   ]
  },
  {
   "cell_type": "markdown",
   "id": "c706a12b",
   "metadata": {},
   "source": [
    "## Author\n",
    "Shashank Shivam"
   ]
  }
 ],
 "metadata": {
  "kernelspec": {
   "display_name": "Python 3 (ipykernel)",
   "language": "python",
   "name": "python3"
  },
  "language_info": {
   "codemirror_mode": {
    "name": "ipython",
    "version": 3
   },
   "file_extension": ".py",
   "mimetype": "text/x-python",
   "name": "python",
   "nbconvert_exporter": "python",
   "pygments_lexer": "ipython3",
   "version": "3.11.5"
  }
 },
 "nbformat": 4,
 "nbformat_minor": 5
}
